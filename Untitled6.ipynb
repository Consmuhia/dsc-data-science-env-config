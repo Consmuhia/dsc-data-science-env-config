{
  "nbformat": 4,
  "nbformat_minor": 0,
  "metadata": {
    "colab": {
      "provenance": [],
      "authorship_tag": "ABX9TyMXfKfQFobt1OJmrXLSV1mj",
      "include_colab_link": true
    },
    "kernelspec": {
      "name": "python3",
      "display_name": "Python 3"
    },
    "language_info": {
      "name": "python"
    }
  },
  "cells": [
    {
      "cell_type": "markdown",
      "metadata": {
        "id": "view-in-github",
        "colab_type": "text"
      },
      "source": [
        "<a href=\"https://colab.research.google.com/github/Consmuhia/dsc-data-science-env-config/blob/main/Untitled6.ipynb\" target=\"_parent\"><img src=\"https://colab.research.google.com/assets/colab-badge.svg\" alt=\"Open In Colab\"/></a>"
      ]
    },
    {
      "cell_type": "code",
      "source": [
        "print (\"Hello World\")"
      ],
      "metadata": {
        "colab": {
          "base_uri": "https://localhost:8080/"
        },
        "id": "8PSfuAoH_dal",
        "outputId": "1e4296c7-2c65-4867-f0a8-8c66ca5722d9"
      },
      "execution_count": null,
      "outputs": [
        {
          "output_type": "stream",
          "name": "stdout",
          "text": [
            "Hello World\n"
          ]
        }
      ]
    },
    {
      "cell_type": "markdown",
      "source": [
        "#Test"
      ],
      "metadata": {
        "id": "1NttGN-SFnY9"
      }
    },
    {
      "cell_type": "code",
      "source": [
        "x = \"maria\".capitalize()\n",
        "x\n"
      ],
      "metadata": {
        "id": "LfKVakWbBiQW",
        "colab": {
          "base_uri": "https://localhost:8080/",
          "height": 35
        },
        "outputId": "91829e24-b582-4a8d-bb8d-31f35f4b014d"
      },
      "execution_count": null,
      "outputs": [
        {
          "output_type": "execute_result",
          "data": {
            "text/plain": [
              "'Maria'"
            ],
            "application/vnd.google.colaboratory.intrinsic+json": {
              "type": "string"
            }
          },
          "metadata": {},
          "execution_count": 1
        }
      ]
    },
    {
      "cell_type": "code",
      "source": [
        "x"
      ],
      "metadata": {
        "colab": {
          "base_uri": "https://localhost:8080/",
          "height": 35
        },
        "id": "nj4hhtt4gQVW",
        "outputId": "ae293d4f-25d2-4cd3-88c9-55d0cd42c900"
      },
      "execution_count": null,
      "outputs": [
        {
          "output_type": "execute_result",
          "data": {
            "text/plain": [
              "'Maria'"
            ],
            "application/vnd.google.colaboratory.intrinsic+json": {
              "type": "string"
            }
          },
          "metadata": {},
          "execution_count": 2
        }
      ]
    },
    {
      "cell_type": "code",
      "source": [
        "x = [1, 2, 3, 4]\n",
        "x.append(7)\n",
        "x"
      ],
      "metadata": {
        "colab": {
          "base_uri": "https://localhost:8080/"
        },
        "id": "pneHtMXMgVgK",
        "outputId": "e473f859-5265-4713-9c69-ddb850faa5ef"
      },
      "execution_count": null,
      "outputs": [
        {
          "output_type": "execute_result",
          "data": {
            "text/plain": [
              "[1, 2, 3, 4, 7]"
            ]
          },
          "metadata": {},
          "execution_count": 4
        }
      ]
    },
    {
      "cell_type": "code",
      "source": [
        "\n",
        "x = \"789\"\n",
        "print(type(x[2]))"
      ],
      "metadata": {
        "colab": {
          "base_uri": "https://localhost:8080/"
        },
        "id": "QrO6-yjWghDG",
        "outputId": "6fedf4c9-c3b5-4d51-d898-e65c007e4a81"
      },
      "execution_count": null,
      "outputs": [
        {
          "output_type": "stream",
          "name": "stdout",
          "text": [
            "<class 'str'>\n"
          ]
        }
      ]
    },
    {
      "cell_type": "code",
      "source": [
        "x, y, z = \"7\", \"8\", \"9\"\n",
        "print(type(int(x)))"
      ],
      "metadata": {
        "colab": {
          "base_uri": "https://localhost:8080/"
        },
        "id": "G_CoEmFehJxz",
        "outputId": "a3952c7d-5dfe-4553-dadb-b921306bb745"
      },
      "execution_count": null,
      "outputs": [
        {
          "output_type": "stream",
          "name": "stdout",
          "text": [
            "<class 'int'>\n"
          ]
        }
      ]
    },
    {
      "cell_type": "code",
      "source": [
        "\"def\" in [\"a\", \"b\", \"c\", \"d\", \"e\", \"f\"]"
      ],
      "metadata": {
        "colab": {
          "base_uri": "https://localhost:8080/"
        },
        "id": "wuDEcpRChR2v",
        "outputId": "1c010cf6-1bee-4ba2-d228-f27f4514a8a4"
      },
      "execution_count": null,
      "outputs": [
        {
          "output_type": "execute_result",
          "data": {
            "text/plain": [
              "False"
            ]
          },
          "metadata": {},
          "execution_count": 7
        }
      ]
    },
    {
      "cell_type": "code",
      "source": [
        "x = 7\n",
        "if x % 2 == 0:\n",
        "    print(\"yes\")\n",
        "else:\n",
        "    print(\"no\")"
      ],
      "metadata": {
        "colab": {
          "base_uri": "https://localhost:8080/"
        },
        "id": "3-Sm4ESfhgBd",
        "outputId": "f7996a60-7950-45fa-d02c-3cdbb767f9db"
      },
      "execution_count": null,
      "outputs": [
        {
          "output_type": "stream",
          "name": "stdout",
          "text": [
            "no\n"
          ]
        }
      ]
    },
    {
      "cell_type": "code",
      "source": [
        "x = [5, 4, 3, 2]\n",
        "for index in range(len(x)):\n",
        "    print(\"index: {}, value: {}\".format(index, x[index]))"
      ],
      "metadata": {
        "colab": {
          "base_uri": "https://localhost:8080/"
        },
        "id": "kye4PjZwhxet",
        "outputId": "2a3c52a4-265f-4ec6-9c77-5a0c2b76e071"
      },
      "execution_count": null,
      "outputs": [
        {
          "output_type": "stream",
          "name": "stdout",
          "text": [
            "index: 0, value: 5\n",
            "index: 1, value: 4\n",
            "index: 2, value: 3\n",
            "index: 3, value: 2\n"
          ]
        }
      ]
    },
    {
      "cell_type": "code",
      "source": [
        "def one():\n",
        "    print(\"one\")\n",
        "\n",
        "def two():\n",
        "    return \"two\"\n",
        "\n",
        "def three():\n",
        "    one()\n",
        "    two()\n",
        "    print(\"three\")\n",
        "\n",
        "three()"
      ],
      "metadata": {
        "colab": {
          "base_uri": "https://localhost:8080/"
        },
        "id": "Yri2OFV0iDRL",
        "outputId": "087fbf0b-9e44-4748-bebd-e66ec783bede"
      },
      "execution_count": null,
      "outputs": [
        {
          "output_type": "stream",
          "name": "stdout",
          "text": [
            "one\n",
            "three\n"
          ]
        }
      ]
    },
    {
      "cell_type": "code",
      "source": [
        "import numpy as np\n",
        "var = np.array([1,2,3,4,5,6,7,8,9,0])\n",
        "var"
      ],
      "metadata": {
        "id": "C820ujfKjFMO",
        "colab": {
          "base_uri": "https://localhost:8080/"
        },
        "outputId": "f278b63f-0940-4183-91d9-7880edc47256"
      },
      "execution_count": null,
      "outputs": [
        {
          "output_type": "execute_result",
          "data": {
            "text/plain": [
              "array([1, 2, 3, 4, 5, 6, 7, 8, 9, 0])"
            ]
          },
          "metadata": {},
          "execution_count": 1
        }
      ]
    },
    {
      "cell_type": "code",
      "source": [
        "import pandas as pd\n",
        "import sqlite3"
      ],
      "metadata": {
        "id": "ascoFJfV6me_"
      },
      "execution_count": 1,
      "outputs": []
    },
    {
      "cell_type": "code",
      "source": [],
      "metadata": {
        "id": "BMq0LCH5W_u1"
      },
      "execution_count": null,
      "outputs": []
    }
  ]
}